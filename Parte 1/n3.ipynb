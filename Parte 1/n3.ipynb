{
 "cells": [
  {
   "cell_type": "code",
   "execution_count": 1,
   "id": "8e058ae4-7198-4931-8c53-7b2f7a108da7",
   "metadata": {},
   "outputs": [],
   "source": [
    "import numpy as np\n",
    "import pandas as pd"
   ]
  },
  {
   "cell_type": "code",
   "execution_count": 2,
   "id": "ce129325-c0ee-447d-85c8-ca390830d375",
   "metadata": {},
   "outputs": [],
   "source": [
    "tip = pd.read_csv(\"tip.csv\", usecols=[\"text\"])\n",
    "tip.dropna( inplace = True)"
   ]
  },
  {
   "cell_type": "code",
   "execution_count": 3,
   "id": "e6228e73-af0a-4f28-8571-aa38a6bbaef7",
   "metadata": {},
   "outputs": [
    {
     "data": {
      "text/plain": [
       "(908910, 1)"
      ]
     },
     "execution_count": 3,
     "metadata": {},
     "output_type": "execute_result"
    }
   ],
   "source": [
    "tip.shape"
   ]
  },
  {
   "cell_type": "code",
   "execution_count": 4,
   "id": "dfb67ba1-1330-42c2-a608-6c8c86c2f904",
   "metadata": {},
   "outputs": [
    {
     "data": {
      "text/html": [
       "<div>\n",
       "<style scoped>\n",
       "    .dataframe tbody tr th:only-of-type {\n",
       "        vertical-align: middle;\n",
       "    }\n",
       "\n",
       "    .dataframe tbody tr th {\n",
       "        vertical-align: top;\n",
       "    }\n",
       "\n",
       "    .dataframe thead th {\n",
       "        text-align: right;\n",
       "    }\n",
       "</style>\n",
       "<table border=\"1\" class=\"dataframe\">\n",
       "  <thead>\n",
       "    <tr style=\"text-align: right;\">\n",
       "      <th></th>\n",
       "      <th>text</th>\n",
       "    </tr>\n",
       "  </thead>\n",
       "  <tbody>\n",
       "    <tr>\n",
       "      <th>0</th>\n",
       "      <td>Avengers time with the ladies.</td>\n",
       "    </tr>\n",
       "    <tr>\n",
       "      <th>1</th>\n",
       "      <td>They have lots of good deserts and tasty cuban...</td>\n",
       "    </tr>\n",
       "    <tr>\n",
       "      <th>2</th>\n",
       "      <td>It's open even when you think it isn't</td>\n",
       "    </tr>\n",
       "    <tr>\n",
       "      <th>3</th>\n",
       "      <td>Very decent fried chicken</td>\n",
       "    </tr>\n",
       "    <tr>\n",
       "      <th>4</th>\n",
       "      <td>Appetizers.. platter special for lunch</td>\n",
       "    </tr>\n",
       "    <tr>\n",
       "      <th>...</th>\n",
       "      <td>...</td>\n",
       "    </tr>\n",
       "    <tr>\n",
       "      <th>908910</th>\n",
       "      <td>Disappointed in one of your managers.</td>\n",
       "    </tr>\n",
       "    <tr>\n",
       "      <th>908911</th>\n",
       "      <td>Great food and service.</td>\n",
       "    </tr>\n",
       "    <tr>\n",
       "      <th>908912</th>\n",
       "      <td>Love their Cubans!!</td>\n",
       "    </tr>\n",
       "    <tr>\n",
       "      <th>908913</th>\n",
       "      <td>Great pizza great price</td>\n",
       "    </tr>\n",
       "    <tr>\n",
       "      <th>908914</th>\n",
       "      <td>Food is good value but a bit hot!</td>\n",
       "    </tr>\n",
       "  </tbody>\n",
       "</table>\n",
       "<p>908910 rows × 1 columns</p>\n",
       "</div>"
      ],
      "text/plain": [
       "                                                     text\n",
       "0                          Avengers time with the ladies.\n",
       "1       They have lots of good deserts and tasty cuban...\n",
       "2                  It's open even when you think it isn't\n",
       "3                               Very decent fried chicken\n",
       "4                  Appetizers.. platter special for lunch\n",
       "...                                                   ...\n",
       "908910              Disappointed in one of your managers.\n",
       "908911                            Great food and service.\n",
       "908912                                Love their Cubans!!\n",
       "908913                            Great pizza great price\n",
       "908914                  Food is good value but a bit hot!\n",
       "\n",
       "[908910 rows x 1 columns]"
      ]
     },
     "execution_count": 4,
     "metadata": {},
     "output_type": "execute_result"
    }
   ],
   "source": [
    "tip"
   ]
  },
  {
   "cell_type": "code",
   "execution_count": 5,
   "id": "3894e5d2-decb-42a6-8ff7-77bd7009a37e",
   "metadata": {},
   "outputs": [],
   "source": [
    "from nltk import ngrams\n"
   ]
  },
  {
   "cell_type": "markdown",
   "id": "96866c32-723f-45d3-878a-72146f0d2936",
   "metadata": {},
   "source": [
    "Antes de pasarlo por ngrams, voy a importar el word tokenizer para tokernizar todos los textos"
   ]
  },
  {
   "cell_type": "code",
   "execution_count": 6,
   "id": "3e0d7d03-7de2-41cf-b518-2bc034dd64d0",
   "metadata": {},
   "outputs": [],
   "source": [
    "from nltk.tokenize import word_tokenize\n",
    "import re"
   ]
  },
  {
   "cell_type": "markdown",
   "id": "6a80b8b4-793e-45f2-919c-4da3089fb9a3",
   "metadata": {},
   "source": [
    "Antes de tokenizar los textos, decidi hacer a todos los textos un lowercase para no perderme mismas oraciones"
   ]
  },
  {
   "cell_type": "code",
   "execution_count": 7,
   "id": "e0a5a553-8afe-4c50-9221-4e5148380b76",
   "metadata": {},
   "outputs": [],
   "source": [
    "lowercase = tip[\"text\"].apply(lambda x : x.lower())"
   ]
  },
  {
   "cell_type": "markdown",
   "id": "c6f5a12a-0d83-4bc3-b126-3cfbc4254c1b",
   "metadata": {},
   "source": [
    "ademas, le saco los signos de puntuacion que no sirvan (decidi que, por ej: la palabra is'nt cuenta como una sola y es isnt)"
   ]
  },
  {
   "cell_type": "code",
   "execution_count": 8,
   "id": "c6ddb98d-13b9-4e11-a620-e1c8e9cadf4a",
   "metadata": {},
   "outputs": [],
   "source": [
    "unsigned = lowercase.apply(lambda x : re.sub(\"[$?&,!.']\", \"\", x))"
   ]
  },
  {
   "cell_type": "code",
   "execution_count": 9,
   "id": "37492353-ceb2-44fb-8eed-7d753b57275b",
   "metadata": {},
   "outputs": [],
   "source": [
    "tokens = unsigned.apply(lambda x: word_tokenize(x))"
   ]
  },
  {
   "cell_type": "code",
   "execution_count": 10,
   "id": "de069c87-8d9a-4bf0-869b-763c950fbcd0",
   "metadata": {},
   "outputs": [
    {
     "data": {
      "text/plain": [
       "0                  [avengers, time, with, the, ladies]\n",
       "1    [they, have, lots, of, good, deserts, and, tas...\n",
       "2        [its, open, even, when, you, think, it, isnt]\n",
       "3                       [very, decent, fried, chicken]\n",
       "4           [appetizers, platter, special, for, lunch]\n",
       "Name: text, dtype: object"
      ]
     },
     "execution_count": 10,
     "metadata": {},
     "output_type": "execute_result"
    }
   ],
   "source": [
    "#muestra de como es la serie\n",
    "tokens[:5]"
   ]
  },
  {
   "cell_type": "code",
   "execution_count": 11,
   "id": "38ad98aa-2810-4670-bd42-3ebd6bea365e",
   "metadata": {},
   "outputs": [],
   "source": [
    "def getGrams(lista , n_grams):\n",
    "    for gram in n_grams:\n",
    "        lista.append(gram)\n"
   ]
  },
  {
   "cell_type": "code",
   "execution_count": 12,
   "id": "a1faec40-7deb-4350-8360-62383c669ecb",
   "metadata": {},
   "outputs": [
    {
     "data": {
      "text/plain": [
       "[('avengers', 'time', 'with'),\n",
       " ('time', 'with', 'the'),\n",
       " ('with', 'the', 'ladies'),\n",
       " ('they', 'have', 'lots'),\n",
       " ('have', 'lots', 'of')]"
      ]
     },
     "execution_count": 12,
     "metadata": {},
     "output_type": "execute_result"
    }
   ],
   "source": [
    "listaDeUplas = []\n",
    "tokens.apply(lambda x: getGrams(listaDeUplas,ngrams(x,3)))\n",
    "listaDeUplas[:5]"
   ]
  },
  {
   "cell_type": "code",
   "execution_count": 13,
   "id": "20459ad3-9dea-4b95-b24b-6aaf6fe08bff",
   "metadata": {},
   "outputs": [
    {
     "data": {
      "text/plain": [
       "0          (avengers, time, with)\n",
       "1               (time, with, the)\n",
       "2             (with, the, ladies)\n",
       "3              (they, have, lots)\n",
       "4                (have, lots, of)\n",
       "                    ...          \n",
       "8459192         (is, good, value)\n",
       "8459193        (good, value, but)\n",
       "8459194           (value, but, a)\n",
       "8459195             (but, a, bit)\n",
       "8459196             (a, bit, hot)\n",
       "Length: 8459197, dtype: object"
      ]
     },
     "execution_count": 13,
     "metadata": {},
     "output_type": "execute_result"
    }
   ],
   "source": [
    "tresUplas = pd.Series(listaDeUplas)\n",
    "tresUplas"
   ]
  },
  {
   "cell_type": "code",
   "execution_count": 14,
   "id": "38593c61-4a08-47ee-a44e-93321785fad8",
   "metadata": {},
   "outputs": [
    {
     "data": {
      "text/plain": [
       "(love, this, place)                9865\n",
       "(this, place, is)                  9014\n",
       "(great, food, and)                 6012\n",
       "(the, food, is)                    5997\n",
       "(is, the, best)                    5906\n",
       "                                   ... \n",
       "(taste, of, bucktown)                 1\n",
       "(of, bucktown, '')                    1\n",
       "(this, neighborhood, barre)           1\n",
       "(neighborhood, barre, location)       1\n",
       "(value, but, a)                       1\n",
       "Length: 4422995, dtype: int64"
      ]
     },
     "execution_count": 14,
     "metadata": {},
     "output_type": "execute_result"
    }
   ],
   "source": [
    "tresUplas.value_counts()"
   ]
  }
 ],
 "metadata": {
  "kernelspec": {
   "display_name": "Python 3 (ipykernel)",
   "language": "python",
   "name": "python3"
  },
  "language_info": {
   "codemirror_mode": {
    "name": "ipython",
    "version": 3
   },
   "file_extension": ".py",
   "mimetype": "text/x-python",
   "name": "python",
   "nbconvert_exporter": "python",
   "pygments_lexer": "ipython3",
   "version": "3.9.7"
  }
 },
 "nbformat": 4,
 "nbformat_minor": 5
}
