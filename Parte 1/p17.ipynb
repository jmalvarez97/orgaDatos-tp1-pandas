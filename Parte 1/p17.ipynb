{
 "cells": [
  {
   "cell_type": "markdown",
   "metadata": {},
   "source": [
    "P17 (). Queremos saber cuáles son los negocios más sexys, para esto vamos a ver cuáles son los 3 el negocios con más tips que contengan el texto “sexy”"
   ]
  },
  {
   "cell_type": "code",
   "execution_count": 1,
   "metadata": {},
   "outputs": [],
   "source": [
    "import pandas as pd\n",
    "\n"
   ]
  },
  {
   "cell_type": "code",
   "execution_count": 2,
   "metadata": {},
   "outputs": [
    {
     "data": {
      "text/plain": [
       "(150346, 2)"
      ]
     },
     "execution_count": 2,
     "metadata": {},
     "output_type": "execute_result"
    }
   ],
   "source": [
    "business = pd.read_csv(\"business.csv\", usecols=[\"name\", \"business_id\"])\n",
    "business = business.dropna()\n",
    "business.shape"
   ]
  },
  {
   "cell_type": "code",
   "execution_count": 3,
   "metadata": {},
   "outputs": [
    {
     "data": {
      "text/plain": [
       "(908915, 2)"
      ]
     },
     "execution_count": 3,
     "metadata": {},
     "output_type": "execute_result"
    }
   ],
   "source": [
    "tips = pd.read_csv(\"tip.csv\", usecols=[\"business_id\", \"text\"])\n",
    "tips.shape"
   ]
  },
  {
   "cell_type": "code",
   "execution_count": 4,
   "metadata": {},
   "outputs": [
    {
     "data": {
      "text/plain": [
       "(908910, 2)"
      ]
     },
     "execution_count": 4,
     "metadata": {},
     "output_type": "execute_result"
    }
   ],
   "source": [
    "tips.dropna(inplace=True)\n",
    "tips.shape"
   ]
  },
  {
   "cell_type": "code",
   "execution_count": 5,
   "metadata": {},
   "outputs": [
    {
     "data": {
      "text/html": [
       "<div>\n",
       "<style scoped>\n",
       "    .dataframe tbody tr th:only-of-type {\n",
       "        vertical-align: middle;\n",
       "    }\n",
       "\n",
       "    .dataframe tbody tr th {\n",
       "        vertical-align: top;\n",
       "    }\n",
       "\n",
       "    .dataframe thead th {\n",
       "        text-align: right;\n",
       "    }\n",
       "</style>\n",
       "<table border=\"1\" class=\"dataframe\">\n",
       "  <thead>\n",
       "    <tr style=\"text-align: right;\">\n",
       "      <th></th>\n",
       "      <th>business_id</th>\n",
       "      <th>text</th>\n",
       "    </tr>\n",
       "  </thead>\n",
       "  <tbody>\n",
       "    <tr>\n",
       "      <th>0</th>\n",
       "      <td>3uLgwr0qeCNMjKenHJwPGQ</td>\n",
       "      <td>Avengers time with the ladies.</td>\n",
       "    </tr>\n",
       "    <tr>\n",
       "      <th>1</th>\n",
       "      <td>QoezRbYQncpRqyrLH6Iqjg</td>\n",
       "      <td>They have lots of good deserts and tasty cuban...</td>\n",
       "    </tr>\n",
       "    <tr>\n",
       "      <th>2</th>\n",
       "      <td>MYoRNLb5chwjQe3c_k37Gg</td>\n",
       "      <td>It's open even when you think it isn't</td>\n",
       "    </tr>\n",
       "    <tr>\n",
       "      <th>3</th>\n",
       "      <td>hV-bABTK-glh5wj31ps_Jw</td>\n",
       "      <td>Very decent fried chicken</td>\n",
       "    </tr>\n",
       "    <tr>\n",
       "      <th>4</th>\n",
       "      <td>_uN0OudeJ3Zl_tf6nxg5ww</td>\n",
       "      <td>Appetizers.. platter special for lunch</td>\n",
       "    </tr>\n",
       "    <tr>\n",
       "      <th>...</th>\n",
       "      <td>...</td>\n",
       "      <td>...</td>\n",
       "    </tr>\n",
       "    <tr>\n",
       "      <th>908910</th>\n",
       "      <td>3lHTewuKFt5IImbXJoFeDQ</td>\n",
       "      <td>Disappointed in one of your managers.</td>\n",
       "    </tr>\n",
       "    <tr>\n",
       "      <th>908911</th>\n",
       "      <td>OaGf0Dp56ARhQwIDT90w_g</td>\n",
       "      <td>Great food and service.</td>\n",
       "    </tr>\n",
       "    <tr>\n",
       "      <th>908912</th>\n",
       "      <td>hYnMeAO77RGyTtIzUSKYzQ</td>\n",
       "      <td>Love their Cubans!!</td>\n",
       "    </tr>\n",
       "    <tr>\n",
       "      <th>908913</th>\n",
       "      <td>s2eyoTuJrcP7I_XyjdhUHQ</td>\n",
       "      <td>Great pizza great price</td>\n",
       "    </tr>\n",
       "    <tr>\n",
       "      <th>908914</th>\n",
       "      <td>_cb1Vg1NIWry8UA0jyuXnQ</td>\n",
       "      <td>Food is good value but a bit hot!</td>\n",
       "    </tr>\n",
       "  </tbody>\n",
       "</table>\n",
       "<p>908910 rows × 2 columns</p>\n",
       "</div>"
      ],
      "text/plain": [
       "                   business_id  \\\n",
       "0       3uLgwr0qeCNMjKenHJwPGQ   \n",
       "1       QoezRbYQncpRqyrLH6Iqjg   \n",
       "2       MYoRNLb5chwjQe3c_k37Gg   \n",
       "3       hV-bABTK-glh5wj31ps_Jw   \n",
       "4       _uN0OudeJ3Zl_tf6nxg5ww   \n",
       "...                        ...   \n",
       "908910  3lHTewuKFt5IImbXJoFeDQ   \n",
       "908911  OaGf0Dp56ARhQwIDT90w_g   \n",
       "908912  hYnMeAO77RGyTtIzUSKYzQ   \n",
       "908913  s2eyoTuJrcP7I_XyjdhUHQ   \n",
       "908914  _cb1Vg1NIWry8UA0jyuXnQ   \n",
       "\n",
       "                                                     text  \n",
       "0                          Avengers time with the ladies.  \n",
       "1       They have lots of good deserts and tasty cuban...  \n",
       "2                  It's open even when you think it isn't  \n",
       "3                               Very decent fried chicken  \n",
       "4                  Appetizers.. platter special for lunch  \n",
       "...                                                   ...  \n",
       "908910              Disappointed in one of your managers.  \n",
       "908911                            Great food and service.  \n",
       "908912                                Love their Cubans!!  \n",
       "908913                            Great pizza great price  \n",
       "908914                  Food is good value but a bit hot!  \n",
       "\n",
       "[908910 rows x 2 columns]"
      ]
     },
     "execution_count": 5,
     "metadata": {},
     "output_type": "execute_result"
    }
   ],
   "source": [
    "tips"
   ]
  },
  {
   "cell_type": "markdown",
   "metadata": {},
   "source": [
    "lower case para llevarme todos los sexys"
   ]
  },
  {
   "cell_type": "code",
   "execution_count": 6,
   "metadata": {},
   "outputs": [
    {
     "data": {
      "text/html": [
       "<div>\n",
       "<style scoped>\n",
       "    .dataframe tbody tr th:only-of-type {\n",
       "        vertical-align: middle;\n",
       "    }\n",
       "\n",
       "    .dataframe tbody tr th {\n",
       "        vertical-align: top;\n",
       "    }\n",
       "\n",
       "    .dataframe thead th {\n",
       "        text-align: right;\n",
       "    }\n",
       "</style>\n",
       "<table border=\"1\" class=\"dataframe\">\n",
       "  <thead>\n",
       "    <tr style=\"text-align: right;\">\n",
       "      <th></th>\n",
       "      <th>business_id</th>\n",
       "      <th>text</th>\n",
       "    </tr>\n",
       "  </thead>\n",
       "  <tbody>\n",
       "    <tr>\n",
       "      <th>0</th>\n",
       "      <td>3uLgwr0qeCNMjKenHJwPGQ</td>\n",
       "      <td>avengers time with the ladies.</td>\n",
       "    </tr>\n",
       "    <tr>\n",
       "      <th>1</th>\n",
       "      <td>QoezRbYQncpRqyrLH6Iqjg</td>\n",
       "      <td>they have lots of good deserts and tasty cuban...</td>\n",
       "    </tr>\n",
       "    <tr>\n",
       "      <th>2</th>\n",
       "      <td>MYoRNLb5chwjQe3c_k37Gg</td>\n",
       "      <td>it's open even when you think it isn't</td>\n",
       "    </tr>\n",
       "    <tr>\n",
       "      <th>3</th>\n",
       "      <td>hV-bABTK-glh5wj31ps_Jw</td>\n",
       "      <td>very decent fried chicken</td>\n",
       "    </tr>\n",
       "    <tr>\n",
       "      <th>4</th>\n",
       "      <td>_uN0OudeJ3Zl_tf6nxg5ww</td>\n",
       "      <td>appetizers.. platter special for lunch</td>\n",
       "    </tr>\n",
       "    <tr>\n",
       "      <th>...</th>\n",
       "      <td>...</td>\n",
       "      <td>...</td>\n",
       "    </tr>\n",
       "    <tr>\n",
       "      <th>908910</th>\n",
       "      <td>3lHTewuKFt5IImbXJoFeDQ</td>\n",
       "      <td>disappointed in one of your managers.</td>\n",
       "    </tr>\n",
       "    <tr>\n",
       "      <th>908911</th>\n",
       "      <td>OaGf0Dp56ARhQwIDT90w_g</td>\n",
       "      <td>great food and service.</td>\n",
       "    </tr>\n",
       "    <tr>\n",
       "      <th>908912</th>\n",
       "      <td>hYnMeAO77RGyTtIzUSKYzQ</td>\n",
       "      <td>love their cubans!!</td>\n",
       "    </tr>\n",
       "    <tr>\n",
       "      <th>908913</th>\n",
       "      <td>s2eyoTuJrcP7I_XyjdhUHQ</td>\n",
       "      <td>great pizza great price</td>\n",
       "    </tr>\n",
       "    <tr>\n",
       "      <th>908914</th>\n",
       "      <td>_cb1Vg1NIWry8UA0jyuXnQ</td>\n",
       "      <td>food is good value but a bit hot!</td>\n",
       "    </tr>\n",
       "  </tbody>\n",
       "</table>\n",
       "<p>908910 rows × 2 columns</p>\n",
       "</div>"
      ],
      "text/plain": [
       "                   business_id  \\\n",
       "0       3uLgwr0qeCNMjKenHJwPGQ   \n",
       "1       QoezRbYQncpRqyrLH6Iqjg   \n",
       "2       MYoRNLb5chwjQe3c_k37Gg   \n",
       "3       hV-bABTK-glh5wj31ps_Jw   \n",
       "4       _uN0OudeJ3Zl_tf6nxg5ww   \n",
       "...                        ...   \n",
       "908910  3lHTewuKFt5IImbXJoFeDQ   \n",
       "908911  OaGf0Dp56ARhQwIDT90w_g   \n",
       "908912  hYnMeAO77RGyTtIzUSKYzQ   \n",
       "908913  s2eyoTuJrcP7I_XyjdhUHQ   \n",
       "908914  _cb1Vg1NIWry8UA0jyuXnQ   \n",
       "\n",
       "                                                     text  \n",
       "0                          avengers time with the ladies.  \n",
       "1       they have lots of good deserts and tasty cuban...  \n",
       "2                  it's open even when you think it isn't  \n",
       "3                               very decent fried chicken  \n",
       "4                  appetizers.. platter special for lunch  \n",
       "...                                                   ...  \n",
       "908910              disappointed in one of your managers.  \n",
       "908911                            great food and service.  \n",
       "908912                                love their cubans!!  \n",
       "908913                            great pizza great price  \n",
       "908914                  food is good value but a bit hot!  \n",
       "\n",
       "[908910 rows x 2 columns]"
      ]
     },
     "execution_count": 6,
     "metadata": {},
     "output_type": "execute_result"
    }
   ],
   "source": [
    "tips.loc[:][\"text\"] = tips[\"text\"].apply(lambda x: x.lower())\n",
    "tips"
   ]
  },
  {
   "cell_type": "code",
   "execution_count": 7,
   "metadata": {},
   "outputs": [],
   "source": [
    "tipsSexys = tips[tips[\"text\"].str.contains(\"sexy\")]"
   ]
  },
  {
   "cell_type": "code",
   "execution_count": 8,
   "metadata": {},
   "outputs": [
    {
     "data": {
      "text/html": [
       "<div>\n",
       "<style scoped>\n",
       "    .dataframe tbody tr th:only-of-type {\n",
       "        vertical-align: middle;\n",
       "    }\n",
       "\n",
       "    .dataframe tbody tr th {\n",
       "        vertical-align: top;\n",
       "    }\n",
       "\n",
       "    .dataframe thead th {\n",
       "        text-align: right;\n",
       "    }\n",
       "</style>\n",
       "<table border=\"1\" class=\"dataframe\">\n",
       "  <thead>\n",
       "    <tr style=\"text-align: right;\">\n",
       "      <th></th>\n",
       "      <th>business_id</th>\n",
       "      <th>text</th>\n",
       "    </tr>\n",
       "  </thead>\n",
       "  <tbody>\n",
       "    <tr>\n",
       "      <th>1655</th>\n",
       "      <td>Bim5pSjkyxxahAkvRRZj1w</td>\n",
       "      <td>a very sexy and competent bartender named brid...</td>\n",
       "    </tr>\n",
       "    <tr>\n",
       "      <th>2705</th>\n",
       "      <td>OBO19q1xT5T-fNDxl4S43A</td>\n",
       "      <td>sexy raunchy good time!</td>\n",
       "    </tr>\n",
       "    <tr>\n",
       "      <th>6680</th>\n",
       "      <td>AmxMAPbbvkOGV2u2CBG9Ow</td>\n",
       "      <td>if you like to dance, this is the place.  sexy...</td>\n",
       "    </tr>\n",
       "    <tr>\n",
       "      <th>9678</th>\n",
       "      <td>UxzNkaC5944XFQ4Kwiw_ZQ</td>\n",
       "      <td>sexy minis</td>\n",
       "    </tr>\n",
       "    <tr>\n",
       "      <th>10136</th>\n",
       "      <td>hxNYDoOeIeb7TBq_qbeg9w</td>\n",
       "      <td>this little boutique is brilliant!  so many ch...</td>\n",
       "    </tr>\n",
       "    <tr>\n",
       "      <th>...</th>\n",
       "      <td>...</td>\n",
       "      <td>...</td>\n",
       "    </tr>\n",
       "    <tr>\n",
       "      <th>886519</th>\n",
       "      <td>5FFLKjQfp0bJhfL-F9xfjQ</td>\n",
       "      <td>scheduled a private lesson for a bachelorette ...</td>\n",
       "    </tr>\n",
       "    <tr>\n",
       "      <th>890133</th>\n",
       "      <td>B6VXTY7VZVWQ8cbfPlH-vg</td>\n",
       "      <td>tuesday night bartender soooooooooo sexy!!!</td>\n",
       "    </tr>\n",
       "    <tr>\n",
       "      <th>890603</th>\n",
       "      <td>j8NpaEvv4AaweMybeADmGQ</td>\n",
       "      <td>love this place definitely a grown &amp;  sexy spo...</td>\n",
       "    </tr>\n",
       "    <tr>\n",
       "      <th>900750</th>\n",
       "      <td>UziY1NWbqeJUUEkCzlNxWw</td>\n",
       "      <td>the way jacob yanks the taps is so sexy. 5 sta...</td>\n",
       "    </tr>\n",
       "    <tr>\n",
       "      <th>906076</th>\n",
       "      <td>bdXSkYTovwYSv2hpOp5iZQ</td>\n",
       "      <td>hospitality night is now at 9am!! get in with ...</td>\n",
       "    </tr>\n",
       "  </tbody>\n",
       "</table>\n",
       "<p>201 rows × 2 columns</p>\n",
       "</div>"
      ],
      "text/plain": [
       "                   business_id  \\\n",
       "1655    Bim5pSjkyxxahAkvRRZj1w   \n",
       "2705    OBO19q1xT5T-fNDxl4S43A   \n",
       "6680    AmxMAPbbvkOGV2u2CBG9Ow   \n",
       "9678    UxzNkaC5944XFQ4Kwiw_ZQ   \n",
       "10136   hxNYDoOeIeb7TBq_qbeg9w   \n",
       "...                        ...   \n",
       "886519  5FFLKjQfp0bJhfL-F9xfjQ   \n",
       "890133  B6VXTY7VZVWQ8cbfPlH-vg   \n",
       "890603  j8NpaEvv4AaweMybeADmGQ   \n",
       "900750  UziY1NWbqeJUUEkCzlNxWw   \n",
       "906076  bdXSkYTovwYSv2hpOp5iZQ   \n",
       "\n",
       "                                                     text  \n",
       "1655    a very sexy and competent bartender named brid...  \n",
       "2705                              sexy raunchy good time!  \n",
       "6680    if you like to dance, this is the place.  sexy...  \n",
       "9678                                           sexy minis  \n",
       "10136   this little boutique is brilliant!  so many ch...  \n",
       "...                                                   ...  \n",
       "886519  scheduled a private lesson for a bachelorette ...  \n",
       "890133        tuesday night bartender soooooooooo sexy!!!  \n",
       "890603  love this place definitely a grown &  sexy spo...  \n",
       "900750  the way jacob yanks the taps is so sexy. 5 sta...  \n",
       "906076  hospitality night is now at 9am!! get in with ...  \n",
       "\n",
       "[201 rows x 2 columns]"
      ]
     },
     "execution_count": 8,
     "metadata": {},
     "output_type": "execute_result"
    }
   ],
   "source": [
    "tipsSexys"
   ]
  },
  {
   "cell_type": "markdown",
   "metadata": {},
   "source": [
    "con el df business le agrego los nombres a las 200 tips sexys"
   ]
  },
  {
   "cell_type": "code",
   "execution_count": 9,
   "metadata": {},
   "outputs": [
    {
     "data": {
      "text/html": [
       "<div>\n",
       "<style scoped>\n",
       "    .dataframe tbody tr th:only-of-type {\n",
       "        vertical-align: middle;\n",
       "    }\n",
       "\n",
       "    .dataframe tbody tr th {\n",
       "        vertical-align: top;\n",
       "    }\n",
       "\n",
       "    .dataframe thead th {\n",
       "        text-align: right;\n",
       "    }\n",
       "</style>\n",
       "<table border=\"1\" class=\"dataframe\">\n",
       "  <thead>\n",
       "    <tr style=\"text-align: right;\">\n",
       "      <th></th>\n",
       "      <th>occurrences</th>\n",
       "    </tr>\n",
       "    <tr>\n",
       "      <th>business_id</th>\n",
       "      <th></th>\n",
       "    </tr>\n",
       "  </thead>\n",
       "  <tbody>\n",
       "    <tr>\n",
       "      <th>-godNl358x6Hco_sw6DMXQ</th>\n",
       "      <td>1</td>\n",
       "    </tr>\n",
       "    <tr>\n",
       "      <th>0JlxuzzDo1Sv89S9ApI9Ng</th>\n",
       "      <td>1</td>\n",
       "    </tr>\n",
       "    <tr>\n",
       "      <th>0OJ6J4AoqpxjwQPp159lcg</th>\n",
       "      <td>1</td>\n",
       "    </tr>\n",
       "    <tr>\n",
       "      <th>0ufrVvklhrNoENhLraP3_g</th>\n",
       "      <td>1</td>\n",
       "    </tr>\n",
       "    <tr>\n",
       "      <th>1817ULc2--fRD1eWnFLg3A</th>\n",
       "      <td>1</td>\n",
       "    </tr>\n",
       "    <tr>\n",
       "      <th>1B6S6XDoX1fWnQI0_K1b1Q</th>\n",
       "      <td>1</td>\n",
       "    </tr>\n",
       "    <tr>\n",
       "      <th>1T9F7iLDFAYWJvif1RKneg</th>\n",
       "      <td>1</td>\n",
       "    </tr>\n",
       "    <tr>\n",
       "      <th>1gIXS-c3kKPevh6mkHzxIg</th>\n",
       "      <td>1</td>\n",
       "    </tr>\n",
       "    <tr>\n",
       "      <th>1xuIrC6VBoa_9XB_5eTfAg</th>\n",
       "      <td>1</td>\n",
       "    </tr>\n",
       "    <tr>\n",
       "      <th>29sZgoR7VN_3ck3NF5easg</th>\n",
       "      <td>1</td>\n",
       "    </tr>\n",
       "    <tr>\n",
       "      <th>2ZqezqDwEO0uuhlX0E54TQ</th>\n",
       "      <td>1</td>\n",
       "    </tr>\n",
       "    <tr>\n",
       "      <th>3C0DE-nohNsQU-q7Y6Pmrw</th>\n",
       "      <td>1</td>\n",
       "    </tr>\n",
       "    <tr>\n",
       "      <th>3f_RZxPrl_JEcqe27kbxxw</th>\n",
       "      <td>1</td>\n",
       "    </tr>\n",
       "    <tr>\n",
       "      <th>3iSRhLUZfZSlLaQw-BzloQ</th>\n",
       "      <td>2</td>\n",
       "    </tr>\n",
       "    <tr>\n",
       "      <th>3nYIq4THGUOgQCAF-mkd7w</th>\n",
       "      <td>1</td>\n",
       "    </tr>\n",
       "  </tbody>\n",
       "</table>\n",
       "</div>"
      ],
      "text/plain": [
       "                        occurrences\n",
       "business_id                        \n",
       "-godNl358x6Hco_sw6DMXQ            1\n",
       "0JlxuzzDo1Sv89S9ApI9Ng            1\n",
       "0OJ6J4AoqpxjwQPp159lcg            1\n",
       "0ufrVvklhrNoENhLraP3_g            1\n",
       "1817ULc2--fRD1eWnFLg3A            1\n",
       "1B6S6XDoX1fWnQI0_K1b1Q            1\n",
       "1T9F7iLDFAYWJvif1RKneg            1\n",
       "1gIXS-c3kKPevh6mkHzxIg            1\n",
       "1xuIrC6VBoa_9XB_5eTfAg            1\n",
       "29sZgoR7VN_3ck3NF5easg            1\n",
       "2ZqezqDwEO0uuhlX0E54TQ            1\n",
       "3C0DE-nohNsQU-q7Y6Pmrw            1\n",
       "3f_RZxPrl_JEcqe27kbxxw            1\n",
       "3iSRhLUZfZSlLaQw-BzloQ            2\n",
       "3nYIq4THGUOgQCAF-mkd7w            1"
      ]
     },
     "execution_count": 9,
     "metadata": {},
     "output_type": "execute_result"
    }
   ],
   "source": [
    "grouped = tipsSexys.groupby(\"business_id\").agg({'text':'count'})\n",
    "grouped  = grouped.rename(columns={'text':'occurrences'})\n",
    "grouped.head(15)"
   ]
  },
  {
   "cell_type": "code",
   "execution_count": 10,
   "metadata": {},
   "outputs": [],
   "source": [
    "merged = business.merge(grouped,left_on=\"business_id\", right_on=\"business_id\", how=\"inner\")"
   ]
  },
  {
   "cell_type": "code",
   "execution_count": 11,
   "metadata": {},
   "outputs": [
    {
     "data": {
      "text/html": [
       "<div>\n",
       "<style scoped>\n",
       "    .dataframe tbody tr th:only-of-type {\n",
       "        vertical-align: middle;\n",
       "    }\n",
       "\n",
       "    .dataframe tbody tr th {\n",
       "        vertical-align: top;\n",
       "    }\n",
       "\n",
       "    .dataframe thead th {\n",
       "        text-align: right;\n",
       "    }\n",
       "</style>\n",
       "<table border=\"1\" class=\"dataframe\">\n",
       "  <thead>\n",
       "    <tr style=\"text-align: right;\">\n",
       "      <th></th>\n",
       "      <th>business_id</th>\n",
       "      <th>name</th>\n",
       "      <th>occurrences</th>\n",
       "    </tr>\n",
       "  </thead>\n",
       "  <tbody>\n",
       "    <tr>\n",
       "      <th>0</th>\n",
       "      <td>jiLGdnf42eYftkqfU2ze1w</td>\n",
       "      <td>Saks Fifth Avenue</td>\n",
       "      <td>1</td>\n",
       "    </tr>\n",
       "    <tr>\n",
       "      <th>1</th>\n",
       "      <td>RWOqFGfUrdL60jOrtxmcGw</td>\n",
       "      <td>Osaka</td>\n",
       "      <td>1</td>\n",
       "    </tr>\n",
       "    <tr>\n",
       "      <th>2</th>\n",
       "      <td>vDhOjSNfgA4eE1Rj88-XDA</td>\n",
       "      <td>Safehouse</td>\n",
       "      <td>1</td>\n",
       "    </tr>\n",
       "    <tr>\n",
       "      <th>3</th>\n",
       "      <td>m1ohyfs8gcS9X-ZQ3Coj2Q</td>\n",
       "      <td>Chez Yasmine</td>\n",
       "      <td>1</td>\n",
       "    </tr>\n",
       "    <tr>\n",
       "      <th>4</th>\n",
       "      <td>4xEJiEQERBvr2jAZQSeF2g</td>\n",
       "      <td>Mojo Tapas</td>\n",
       "      <td>4</td>\n",
       "    </tr>\n",
       "    <tr>\n",
       "      <th>...</th>\n",
       "      <td>...</td>\n",
       "      <td>...</td>\n",
       "      <td>...</td>\n",
       "    </tr>\n",
       "    <tr>\n",
       "      <th>174</th>\n",
       "      <td>UziY1NWbqeJUUEkCzlNxWw</td>\n",
       "      <td>The Pesky Pelican Brew Pub</td>\n",
       "      <td>1</td>\n",
       "    </tr>\n",
       "    <tr>\n",
       "      <th>175</th>\n",
       "      <td>OymuTxYdT9JGi8Per2vTSw</td>\n",
       "      <td>Mamou</td>\n",
       "      <td>1</td>\n",
       "    </tr>\n",
       "    <tr>\n",
       "      <th>176</th>\n",
       "      <td>isRg8RrE1iIv1ks27A1FuA</td>\n",
       "      <td>Wood Fired Pizza Wine Bar</td>\n",
       "      <td>1</td>\n",
       "    </tr>\n",
       "    <tr>\n",
       "      <th>177</th>\n",
       "      <td>88ywkVeD9DspLSGC20Ujjg</td>\n",
       "      <td>260 First</td>\n",
       "      <td>1</td>\n",
       "    </tr>\n",
       "    <tr>\n",
       "      <th>178</th>\n",
       "      <td>PWlShgXsJ8Yj3ucD7n8kdA</td>\n",
       "      <td>The Ranstead Room</td>\n",
       "      <td>2</td>\n",
       "    </tr>\n",
       "  </tbody>\n",
       "</table>\n",
       "<p>179 rows × 3 columns</p>\n",
       "</div>"
      ],
      "text/plain": [
       "                business_id                        name  occurrences\n",
       "0    jiLGdnf42eYftkqfU2ze1w           Saks Fifth Avenue            1\n",
       "1    RWOqFGfUrdL60jOrtxmcGw                       Osaka            1\n",
       "2    vDhOjSNfgA4eE1Rj88-XDA                   Safehouse            1\n",
       "3    m1ohyfs8gcS9X-ZQ3Coj2Q                Chez Yasmine            1\n",
       "4    4xEJiEQERBvr2jAZQSeF2g                  Mojo Tapas            4\n",
       "..                      ...                         ...          ...\n",
       "174  UziY1NWbqeJUUEkCzlNxWw  The Pesky Pelican Brew Pub            1\n",
       "175  OymuTxYdT9JGi8Per2vTSw                       Mamou            1\n",
       "176  isRg8RrE1iIv1ks27A1FuA   Wood Fired Pizza Wine Bar            1\n",
       "177  88ywkVeD9DspLSGC20Ujjg                   260 First            1\n",
       "178  PWlShgXsJ8Yj3ucD7n8kdA           The Ranstead Room            2\n",
       "\n",
       "[179 rows x 3 columns]"
      ]
     },
     "execution_count": 11,
     "metadata": {},
     "output_type": "execute_result"
    }
   ],
   "source": [
    "merged"
   ]
  },
  {
   "cell_type": "code",
   "execution_count": 12,
   "metadata": {},
   "outputs": [
    {
     "data": {
      "text/plain": [
       "139    5\n",
       "4      4\n",
       "63     4\n",
       "Name: occurrences, dtype: int64"
      ]
     },
     "execution_count": 12,
     "metadata": {},
     "output_type": "execute_result"
    }
   ],
   "source": [
    "merged[\"occurrences\"].nlargest(3)"
   ]
  },
  {
   "cell_type": "code",
   "execution_count": 13,
   "metadata": {},
   "outputs": [
    {
     "data": {
      "text/plain": [
       "Int64Index([139, 4, 63], dtype='int64')"
      ]
     },
     "execution_count": 13,
     "metadata": {},
     "output_type": "execute_result"
    }
   ],
   "source": [
    "indices = merged[\"occurrences\"].nlargest(3).index\n",
    "indices"
   ]
  },
  {
   "cell_type": "code",
   "execution_count": 14,
   "metadata": {},
   "outputs": [],
   "source": [
    "top3 = merged.filter(items = indices, axis=0)"
   ]
  },
  {
   "cell_type": "code",
   "execution_count": 15,
   "metadata": {},
   "outputs": [
    {
     "data": {
      "text/html": [
       "<div>\n",
       "<style scoped>\n",
       "    .dataframe tbody tr th:only-of-type {\n",
       "        vertical-align: middle;\n",
       "    }\n",
       "\n",
       "    .dataframe tbody tr th {\n",
       "        vertical-align: top;\n",
       "    }\n",
       "\n",
       "    .dataframe thead th {\n",
       "        text-align: right;\n",
       "    }\n",
       "</style>\n",
       "<table border=\"1\" class=\"dataframe\">\n",
       "  <thead>\n",
       "    <tr style=\"text-align: right;\">\n",
       "      <th></th>\n",
       "      <th>business_id</th>\n",
       "      <th>name</th>\n",
       "      <th>occurrences</th>\n",
       "    </tr>\n",
       "  </thead>\n",
       "  <tbody>\n",
       "    <tr>\n",
       "      <th>139</th>\n",
       "      <td>IxX6YczoeBpdt78AzDS4GQ</td>\n",
       "      <td>The Butcher And Barkeep</td>\n",
       "      <td>5</td>\n",
       "    </tr>\n",
       "    <tr>\n",
       "      <th>4</th>\n",
       "      <td>4xEJiEQERBvr2jAZQSeF2g</td>\n",
       "      <td>Mojo Tapas</td>\n",
       "      <td>4</td>\n",
       "    </tr>\n",
       "    <tr>\n",
       "      <th>63</th>\n",
       "      <td>X9e_btDPux6JGqqw8UF_Pg</td>\n",
       "      <td>Koizi Endless Hibachi &amp; Sushi Eatery</td>\n",
       "      <td>4</td>\n",
       "    </tr>\n",
       "  </tbody>\n",
       "</table>\n",
       "</div>"
      ],
      "text/plain": [
       "                business_id                                  name  occurrences\n",
       "139  IxX6YczoeBpdt78AzDS4GQ               The Butcher And Barkeep            5\n",
       "4    4xEJiEQERBvr2jAZQSeF2g                            Mojo Tapas            4\n",
       "63   X9e_btDPux6JGqqw8UF_Pg  Koizi Endless Hibachi & Sushi Eatery            4"
      ]
     },
     "execution_count": 15,
     "metadata": {},
     "output_type": "execute_result"
    }
   ],
   "source": [
    "top3"
   ]
  },
  {
   "cell_type": "code",
   "execution_count": null,
   "metadata": {},
   "outputs": [],
   "source": []
  }
 ],
 "metadata": {
  "kernelspec": {
   "display_name": "Python 3 (ipykernel)",
   "language": "python",
   "name": "python3"
  },
  "language_info": {
   "codemirror_mode": {
    "name": "ipython",
    "version": 3
   },
   "file_extension": ".py",
   "mimetype": "text/x-python",
   "name": "python",
   "nbconvert_exporter": "python",
   "pygments_lexer": "ipython3",
   "version": "3.9.7"
  }
 },
 "nbformat": 4,
 "nbformat_minor": 4
}
