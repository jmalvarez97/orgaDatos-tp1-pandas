{
 "cells": [
  {
   "cell_type": "code",
   "execution_count": 1,
   "id": "0412fba7-7ff1-41b4-bf51-de9c3dc8e329",
   "metadata": {},
   "outputs": [],
   "source": [
    "import pandas as pd\n",
    "import zstandard"
   ]
  },
  {
   "cell_type": "code",
   "execution_count": 2,
   "id": "ceb7ef55-c81e-45ea-b71f-bc5bfdab20a7",
   "metadata": {},
   "outputs": [],
   "source": [
    "# sacadas de la catedra\n",
    "def compress_size(bytefile):\n",
    "    return len(zstandard.compress(bytefile))\n",
    "\n",
    "def ncd(obj1, obj2):\n",
    "    len1 = compress_size(obj1)\n",
    "    len2 = compress_size(obj2)\n",
    "    concat_len = len(zstandard.compress(obj1+obj2))\n",
    "    return (concat_len-min(len1, len2))/max(len1, len2)"
   ]
  },
  {
   "cell_type": "code",
   "execution_count": 3,
   "id": "0e2a1e87-f931-41ff-b9aa-a77a5471f7c5",
   "metadata": {},
   "outputs": [],
   "source": [
    "español = open(\"dHumanosEspañol.txt\", \"r\", encoding='utf-8').read().encode()"
   ]
  },
  {
   "cell_type": "markdown",
   "id": "6287ffc9-9901-433a-a610-2c9bf6dcd64b",
   "metadata": {},
   "source": [
    "Me fijo el tamaño antes de la compresion."
   ]
  },
  {
   "cell_type": "code",
   "execution_count": 4,
   "id": "92575d76-5241-40e6-ab8d-9a7a11dd2726",
   "metadata": {},
   "outputs": [
    {
     "data": {
      "text/plain": [
       "12269"
      ]
     },
     "execution_count": 4,
     "metadata": {},
     "output_type": "execute_result"
    }
   ],
   "source": [
    "len(español)"
   ]
  },
  {
   "cell_type": "code",
   "execution_count": 5,
   "id": "b6870c04-8f89-4b2e-b03f-c981f3039bd1",
   "metadata": {},
   "outputs": [
    {
     "data": {
      "text/plain": [
       "4661"
      ]
     },
     "execution_count": 5,
     "metadata": {},
     "output_type": "execute_result"
    }
   ],
   "source": [
    "compressedEsp=compress_size(español)\n",
    "compressedEsp"
   ]
  },
  {
   "cell_type": "code",
   "execution_count": 6,
   "id": "fed98a7b-e011-4a4e-9b7b-d9b81f32f90c",
   "metadata": {},
   "outputs": [],
   "source": [
    "portugues = open(\"dHumanosPortugues.txt\", \"r\", encoding='utf-8').read().encode()\n"
   ]
  },
  {
   "cell_type": "code",
   "execution_count": 7,
   "id": "d39b5815-3ab7-4eea-a306-57c48f828d31",
   "metadata": {},
   "outputs": [
    {
     "data": {
      "text/plain": [
       "12016"
      ]
     },
     "execution_count": 7,
     "metadata": {},
     "output_type": "execute_result"
    }
   ],
   "source": [
    "len(portugues)"
   ]
  },
  {
   "cell_type": "code",
   "execution_count": 8,
   "id": "cbccb372-0b42-4db9-8d4a-c16a450e0207",
   "metadata": {},
   "outputs": [
    {
     "data": {
      "text/plain": [
       "4694"
      ]
     },
     "execution_count": 8,
     "metadata": {},
     "output_type": "execute_result"
    }
   ],
   "source": [
    "compressedPor = compress_size(portugues)\n",
    "compressedPor"
   ]
  },
  {
   "cell_type": "code",
   "execution_count": 9,
   "id": "79ec0570-18ac-450e-a6ed-fe5e5ee984f9",
   "metadata": {},
   "outputs": [
    {
     "data": {
      "text/plain": [
       "-0.013301866552242008"
      ]
     },
     "execution_count": 9,
     "metadata": {},
     "output_type": "execute_result"
    }
   ],
   "source": [
    "ncd(español,español) #tiende a cero "
   ]
  },
  {
   "cell_type": "code",
   "execution_count": 10,
   "id": "f99fdcd7-662e-47ba-9922-ff24232053e4",
   "metadata": {},
   "outputs": [],
   "source": [
    "review = pd.read_csv(\"../review.csv\", usecols=[\"text\"])"
   ]
  },
  {
   "cell_type": "code",
   "execution_count": 11,
   "id": "721fe4c5-34bb-4807-92be-ab245aea69dc",
   "metadata": {},
   "outputs": [
    {
     "data": {
      "text/html": [
       "<div>\n",
       "<style scoped>\n",
       "    .dataframe tbody tr th:only-of-type {\n",
       "        vertical-align: middle;\n",
       "    }\n",
       "\n",
       "    .dataframe tbody tr th {\n",
       "        vertical-align: top;\n",
       "    }\n",
       "\n",
       "    .dataframe thead th {\n",
       "        text-align: right;\n",
       "    }\n",
       "</style>\n",
       "<table border=\"1\" class=\"dataframe\">\n",
       "  <thead>\n",
       "    <tr style=\"text-align: right;\">\n",
       "      <th></th>\n",
       "      <th>text</th>\n",
       "    </tr>\n",
       "  </thead>\n",
       "  <tbody>\n",
       "    <tr>\n",
       "      <th>0</th>\n",
       "      <td>If you decide to eat here, just be aware it is...</td>\n",
       "    </tr>\n",
       "    <tr>\n",
       "      <th>1</th>\n",
       "      <td>Cute interior and owner (?) gave us tour of up...</td>\n",
       "    </tr>\n",
       "    <tr>\n",
       "      <th>2</th>\n",
       "      <td>I was really between 3 and 4 stars for this on...</td>\n",
       "    </tr>\n",
       "    <tr>\n",
       "      <th>3</th>\n",
       "      <td>First time there and it was excellent!!! It fe...</td>\n",
       "    </tr>\n",
       "    <tr>\n",
       "      <th>4</th>\n",
       "      <td>Great burgers,fries and salad!  Burgers have a...</td>\n",
       "    </tr>\n",
       "    <tr>\n",
       "      <th>...</th>\n",
       "      <td>...</td>\n",
       "    </tr>\n",
       "    <tr>\n",
       "      <th>3838100</th>\n",
       "      <td>We redesigned my moms dress and mad it complet...</td>\n",
       "    </tr>\n",
       "    <tr>\n",
       "      <th>3838101</th>\n",
       "      <td>This spot offers a great, affordable east week...</td>\n",
       "    </tr>\n",
       "    <tr>\n",
       "      <th>3838102</th>\n",
       "      <td>This Home Depot won me over when I needed to g...</td>\n",
       "    </tr>\n",
       "    <tr>\n",
       "      <th>3838103</th>\n",
       "      <td>For when I'm feeling like ignoring my calorie-...</td>\n",
       "    </tr>\n",
       "    <tr>\n",
       "      <th>3838104</th>\n",
       "      <td>Located in the 'Walking District' in Nashville...</td>\n",
       "    </tr>\n",
       "  </tbody>\n",
       "</table>\n",
       "<p>3838105 rows × 1 columns</p>\n",
       "</div>"
      ],
      "text/plain": [
       "                                                      text\n",
       "0        If you decide to eat here, just be aware it is...\n",
       "1        Cute interior and owner (?) gave us tour of up...\n",
       "2        I was really between 3 and 4 stars for this on...\n",
       "3        First time there and it was excellent!!! It fe...\n",
       "4        Great burgers,fries and salad!  Burgers have a...\n",
       "...                                                    ...\n",
       "3838100  We redesigned my moms dress and mad it complet...\n",
       "3838101  This spot offers a great, affordable east week...\n",
       "3838102  This Home Depot won me over when I needed to g...\n",
       "3838103  For when I'm feeling like ignoring my calorie-...\n",
       "3838104  Located in the 'Walking District' in Nashville...\n",
       "\n",
       "[3838105 rows x 1 columns]"
      ]
     },
     "execution_count": 11,
     "metadata": {},
     "output_type": "execute_result"
    }
   ],
   "source": [
    "review"
   ]
  },
  {
   "cell_type": "markdown",
   "id": "87e77052-3010-4763-9522-fa8058cffdbf",
   "metadata": {},
   "source": [
    "Para hacerlo un poco mas eficiente, me ahorro de hacer el compress del mismo archivo"
   ]
  },
  {
   "cell_type": "code",
   "execution_count": 12,
   "id": "9f7db2ee-9a36-46ef-a88c-b74a0dc3f51c",
   "metadata": {},
   "outputs": [],
   "source": [
    "def ncdModEspañol(review, español, tamaño):\n",
    "    len1 = tamaño # me ahorro de hacer 3.800.000 de veces esto\n",
    "    len2 = compress_size(review)\n",
    "    concat_len = len(zstandard.compress(español+review))\n",
    "    return (concat_len-min(len1, len2))/max(len1, len2)\n",
    "\n",
    "def ncdModPortugues(review, portugues, tamaño):\n",
    "    len1 = tamaño # me ahorro de hacer 3.800.000 de veces esto\n",
    "    len2 = compress_size(review)\n",
    "    concat_len = len(zstandard.compress(portugues+review))\n",
    "    return (concat_len-min(len1, len2))/max(len1, len2)"
   ]
  },
  {
   "cell_type": "code",
   "execution_count": 13,
   "id": "c50c2ec5-a8dd-425c-b96a-8a28655f120b",
   "metadata": {},
   "outputs": [],
   "source": [
    "import time"
   ]
  },
  {
   "cell_type": "code",
   "execution_count": 14,
   "id": "cb5ed313-0c38-471a-ac33-3daaefa3d667",
   "metadata": {},
   "outputs": [
    {
     "data": {
      "text/plain": [
       "336.82652759552"
      ]
     },
     "execution_count": 14,
     "metadata": {},
     "output_type": "execute_result"
    }
   ],
   "source": [
    "start = time.time()\n",
    "review[\"NCD Español\"] = review[\"text\"].apply(lambda x : ncdModEspañol(x.encode(), español, compressedEsp))\n",
    "end = time.time()\n",
    "end-start"
   ]
  },
  {
   "cell_type": "markdown",
   "id": "a9493c8c-37c5-46bb-9715-f22d566cfbd5",
   "metadata": {},
   "source": [
    "5 minutos y pico"
   ]
  },
  {
   "cell_type": "code",
   "execution_count": 15,
   "id": "778c7fc7-d721-4026-a916-fdbb5fbff56d",
   "metadata": {},
   "outputs": [
    {
     "data": {
      "text/plain": [
       "count    3.838105e+06\n",
       "mean     9.943669e-01\n",
       "std      1.426005e-03\n",
       "min      9.500107e-01\n",
       "25%      9.935636e-01\n",
       "50%      9.944218e-01\n",
       "75%      9.950654e-01\n",
       "max      1.091826e+00\n",
       "Name: NCD Español, dtype: float64"
      ]
     },
     "execution_count": 15,
     "metadata": {},
     "output_type": "execute_result"
    }
   ],
   "source": [
    "review[\"NCD Español\"].describe()"
   ]
  },
  {
   "cell_type": "markdown",
   "id": "0ba0978e-5e42-414a-b57a-4f588eadd843",
   "metadata": {},
   "source": [
    "El valor minimo es el que mas pudo comprimir los datos en ambos en uno solo, que serian que comparten las mismas palabras --> mismo idioma"
   ]
  },
  {
   "cell_type": "code",
   "execution_count": 16,
   "id": "9a6ea373-a6d3-4735-a521-b07a635c94da",
   "metadata": {},
   "outputs": [
    {
     "data": {
      "text/plain": [
       "0.9500107273117356"
      ]
     },
     "execution_count": 16,
     "metadata": {},
     "output_type": "execute_result"
    }
   ],
   "source": [
    "review[\"NCD Español\"].min()"
   ]
  },
  {
   "cell_type": "code",
   "execution_count": 17,
   "id": "3612d224-9a6f-44d5-951d-485e774958fc",
   "metadata": {},
   "outputs": [
    {
     "data": {
      "text/plain": [
       "'Mi experiencia fue malísima! Bastó una primera y última vez para saber que esta empresa trabaja sobre la base de la mentira y la falta de ética profesional!\\n\\nSólo los escogí porque me garantizaron entrega en 3 semanas. Yo tenía una fecha límite para hacer que llegaran esas cajas a Vzla. El señor que atiende este negocio me garantizó que serían entregadas antes de la fecha que yo le presenté (yo contaba con una semana extra para esperar). Fue así que envié las cajas con ellos. Los seguía por Facebook, y un día publicaron un vídeo con la leyenda \"Así salen nuestras cajas de nuestra tienda, bla bla bla\"  y, entre los lugares que mostraron, se encontraba el destino de mis cajas. Ante esto, le pregunté al dueño por WhatsApp si apenas para esa fecha estaban saliendo las cajas y, le recordé el estimado de tiempo que yo tenía. Pues, el \"señor\" me salió con la mala educación de decirme que para que mandé  con ellos, que cuál era la desconfianza, que cómo sabía yo que ahí iban mis cajas  y para mi sorpresa, el tipo me bloqueó enseguida del WhatsApp! Muy maduro, no?  Cortar comunicación con un cliente es una falta de profesionalismo, de respeto y  sobre todo, de credibilidad!\\n\\nAdemás de esto, cuando las cajas llegaron a Vzla, la entrega al lugar de destino no tenía fecha asignada. Tuve que comunicarme con un chico de Vzla que llamó al destino de las cajas para confirmar dirección y, entonces allí obtuve su tlf. Él, a pesar de ser muy gentil conmigo, no podía garantizarme fecha. Resultó que las cajas habían sido enviadas a Pto La Cruz y estaban en una tienda de envíos \\nnacionales, pero sin fecha de salida. Ocurría que ellos estaban esperando otras encomiendas que tuviesen la misma ruta, en vista de que mis cajas eran las únicas para esa ubicación.\\n\\nSi la entrega de mis cajas estaban condicionadas a ser enviadas en función de otras encomiendas (por \"volumen\" cómo me dijo el chico de Vzla), en Valrico debían informarme esto con antelación! Fue entonces cuando le envié un texto al sr. Juan diciéndole que yo no estaba pagando para esperar cajas, que el tiempo que él me  garantizó ya había pasado (incluso con el carnaval atravesado), y que no debió haber cortado comunicación con alguien que le está pagando por un servicio. Le dije también que él no me estaba haciendo favor alguno.\\n\\nPues para seguir sorprendiéndome, el tipo me salió que él jamás me garantizó a mí 3 semanas y que lo que yo decía era \"falso\"! Enseguida le envié capturas con las conversaciones y se veía claramente que sí lo había garantizado. De verdad que el señor este trabaja con puro cinismo y mentiras. También me salió con que en vista de la \"premura\" nuestra, yo podía mandar a buscar las cajas en Pto la Cruz (cosa que yo misma ya había propuesto). Efectivamente, eso fue lo que tuvimos que hacer. Tuvo que ir mi familia a buscar las cajas , cuando aquí se pagó en dólares una entrega puerta a puerta. Al tipo le pregunté si me iba a regresar ese costo... todavía estoy esperando la respuesta! Tampoco respondió cuándo le pregunté si lo que yo decía era falso después de que le envié las capturas.  Al retirar las cajas en Pto la Cruz, uno de los trabajadores le dijo a mi hermano que esas cajas no iban a salir en un futuro próximo, que ni siquiera tenían fecha de salida por tratarse de un lugar \"metido\". Lo más cumbre de esto es que ya me habían dicho que llegaban el lunes o martes de la semana próxima (fueron a buscarlas un sábado). Otra mentira!\\n\\nSi pudiera darle 0 en este review, se lo diera! Una empresa que para enganchar a un cliente te atiende de mil amores y después de pagado el servicio, tiene la cara dura de llamarte mentiroso cuando es él quien decía mentiras, y  de qué además corta comunicación con el cliente, no merece clientes fijos. Pareciera que su política es \"pan para hoy, hambre para mañana\". Nunca más enviaré con esta tienda y volveré a la empresa con la que siempre había enviado en el pasado, los cuales son transparentes, y que por haberme dicho sinceramente que ellos se estaban tardando 7 semanas, tuve la mala experiencia de irme con esta gente de DollarToGo.'"
      ]
     },
     "execution_count": 17,
     "metadata": {},
     "output_type": "execute_result"
    }
   ],
   "source": [
    "review[review[\"NCD Español\"] == 0.9500107273117356].text.item()"
   ]
  },
  {
   "cell_type": "code",
   "execution_count": 18,
   "id": "0aa3cdc7-b4ec-47c9-bf98-b87194492830",
   "metadata": {},
   "outputs": [
    {
     "data": {
      "text/html": [
       "<div>\n",
       "<style scoped>\n",
       "    .dataframe tbody tr th:only-of-type {\n",
       "        vertical-align: middle;\n",
       "    }\n",
       "\n",
       "    .dataframe tbody tr th {\n",
       "        vertical-align: top;\n",
       "    }\n",
       "\n",
       "    .dataframe thead th {\n",
       "        text-align: right;\n",
       "    }\n",
       "</style>\n",
       "<table border=\"1\" class=\"dataframe\">\n",
       "  <thead>\n",
       "    <tr style=\"text-align: right;\">\n",
       "      <th></th>\n",
       "      <th>text</th>\n",
       "      <th>NCD Español</th>\n",
       "    </tr>\n",
       "  </thead>\n",
       "  <tbody>\n",
       "    <tr>\n",
       "      <th>1467338</th>\n",
       "      <td>Mi experiencia fue malísima! Bastó una primera...</td>\n",
       "      <td>0.950011</td>\n",
       "    </tr>\n",
       "  </tbody>\n",
       "</table>\n",
       "</div>"
      ],
      "text/plain": [
       "                                                      text  NCD Español\n",
       "1467338  Mi experiencia fue malísima! Bastó una primera...     0.950011"
      ]
     },
     "execution_count": 18,
     "metadata": {},
     "output_type": "execute_result"
    }
   ],
   "source": [
    "review[review[\"NCD Español\"] == 0.9500107273117356]"
   ]
  },
  {
   "cell_type": "markdown",
   "id": "bc56c580-298a-40c6-aba4-9e5c68ea1b5f",
   "metadata": {},
   "source": [
    "<h3>Ahora hago lo mismo para el idioma portugues</h3>"
   ]
  },
  {
   "cell_type": "code",
   "execution_count": 19,
   "id": "08c5e19e-1808-440b-a436-6a0d6dd6d5df",
   "metadata": {},
   "outputs": [
    {
     "data": {
      "text/plain": [
       "344.78813219070435"
      ]
     },
     "execution_count": 19,
     "metadata": {},
     "output_type": "execute_result"
    }
   ],
   "source": [
    "start = time.time()\n",
    "review[\"NCD Portugues\"] = review[\"text\"].apply(lambda x : ncdModPortugues(x.encode(), portugues, compressedPor))\n",
    "end = time.time()\n",
    "end-start"
   ]
  },
  {
   "cell_type": "code",
   "execution_count": 20,
   "id": "37cfb283-7639-40f0-b3c5-35caa8a1222b",
   "metadata": {},
   "outputs": [
    {
     "data": {
      "text/html": [
       "<div>\n",
       "<style scoped>\n",
       "    .dataframe tbody tr th:only-of-type {\n",
       "        vertical-align: middle;\n",
       "    }\n",
       "\n",
       "    .dataframe tbody tr th {\n",
       "        vertical-align: top;\n",
       "    }\n",
       "\n",
       "    .dataframe thead th {\n",
       "        text-align: right;\n",
       "    }\n",
       "</style>\n",
       "<table border=\"1\" class=\"dataframe\">\n",
       "  <thead>\n",
       "    <tr style=\"text-align: right;\">\n",
       "      <th></th>\n",
       "      <th>text</th>\n",
       "      <th>NCD Español</th>\n",
       "      <th>NCD Portugues</th>\n",
       "    </tr>\n",
       "  </thead>\n",
       "  <tbody>\n",
       "    <tr>\n",
       "      <th>0</th>\n",
       "      <td>If you decide to eat here, just be aware it is...</td>\n",
       "      <td>0.993135</td>\n",
       "      <td>0.993609</td>\n",
       "    </tr>\n",
       "    <tr>\n",
       "      <th>1</th>\n",
       "      <td>Cute interior and owner (?) gave us tour of up...</td>\n",
       "      <td>0.994207</td>\n",
       "      <td>0.996378</td>\n",
       "    </tr>\n",
       "    <tr>\n",
       "      <th>2</th>\n",
       "      <td>I was really between 3 and 4 stars for this on...</td>\n",
       "      <td>0.995495</td>\n",
       "      <td>0.996378</td>\n",
       "    </tr>\n",
       "    <tr>\n",
       "      <th>3</th>\n",
       "      <td>First time there and it was excellent!!! It fe...</td>\n",
       "      <td>0.995065</td>\n",
       "      <td>0.996378</td>\n",
       "    </tr>\n",
       "    <tr>\n",
       "      <th>4</th>\n",
       "      <td>Great burgers,fries and salad!  Burgers have a...</td>\n",
       "      <td>0.994636</td>\n",
       "      <td>0.996165</td>\n",
       "    </tr>\n",
       "    <tr>\n",
       "      <th>...</th>\n",
       "      <td>...</td>\n",
       "      <td>...</td>\n",
       "      <td>...</td>\n",
       "    </tr>\n",
       "    <tr>\n",
       "      <th>3838100</th>\n",
       "      <td>We redesigned my moms dress and mad it complet...</td>\n",
       "      <td>0.995495</td>\n",
       "      <td>0.996378</td>\n",
       "    </tr>\n",
       "    <tr>\n",
       "      <th>3838101</th>\n",
       "      <td>This spot offers a great, affordable east week...</td>\n",
       "      <td>0.993564</td>\n",
       "      <td>0.995526</td>\n",
       "    </tr>\n",
       "    <tr>\n",
       "      <th>3838102</th>\n",
       "      <td>This Home Depot won me over when I needed to g...</td>\n",
       "      <td>0.992705</td>\n",
       "      <td>0.993396</td>\n",
       "    </tr>\n",
       "    <tr>\n",
       "      <th>3838103</th>\n",
       "      <td>For when I'm feeling like ignoring my calorie-...</td>\n",
       "      <td>0.996353</td>\n",
       "      <td>0.997444</td>\n",
       "    </tr>\n",
       "    <tr>\n",
       "      <th>3838104</th>\n",
       "      <td>Located in the 'Walking District' in Nashville...</td>\n",
       "      <td>0.993778</td>\n",
       "      <td>0.995526</td>\n",
       "    </tr>\n",
       "  </tbody>\n",
       "</table>\n",
       "<p>3838105 rows × 3 columns</p>\n",
       "</div>"
      ],
      "text/plain": [
       "                                                      text  NCD Español  \\\n",
       "0        If you decide to eat here, just be aware it is...     0.993135   \n",
       "1        Cute interior and owner (?) gave us tour of up...     0.994207   \n",
       "2        I was really between 3 and 4 stars for this on...     0.995495   \n",
       "3        First time there and it was excellent!!! It fe...     0.995065   \n",
       "4        Great burgers,fries and salad!  Burgers have a...     0.994636   \n",
       "...                                                    ...          ...   \n",
       "3838100  We redesigned my moms dress and mad it complet...     0.995495   \n",
       "3838101  This spot offers a great, affordable east week...     0.993564   \n",
       "3838102  This Home Depot won me over when I needed to g...     0.992705   \n",
       "3838103  For when I'm feeling like ignoring my calorie-...     0.996353   \n",
       "3838104  Located in the 'Walking District' in Nashville...     0.993778   \n",
       "\n",
       "         NCD Portugues  \n",
       "0             0.993609  \n",
       "1             0.996378  \n",
       "2             0.996378  \n",
       "3             0.996378  \n",
       "4             0.996165  \n",
       "...                ...  \n",
       "3838100       0.996378  \n",
       "3838101       0.995526  \n",
       "3838102       0.993396  \n",
       "3838103       0.997444  \n",
       "3838104       0.995526  \n",
       "\n",
       "[3838105 rows x 3 columns]"
      ]
     },
     "execution_count": 20,
     "metadata": {},
     "output_type": "execute_result"
    }
   ],
   "source": [
    "review"
   ]
  },
  {
   "cell_type": "code",
   "execution_count": 21,
   "id": "11a2d74a-7c90-4040-aa51-32e9a198f231",
   "metadata": {},
   "outputs": [
    {
     "data": {
      "text/html": [
       "<div>\n",
       "<style scoped>\n",
       "    .dataframe tbody tr th:only-of-type {\n",
       "        vertical-align: middle;\n",
       "    }\n",
       "\n",
       "    .dataframe tbody tr th {\n",
       "        vertical-align: top;\n",
       "    }\n",
       "\n",
       "    .dataframe thead th {\n",
       "        text-align: right;\n",
       "    }\n",
       "</style>\n",
       "<table border=\"1\" class=\"dataframe\">\n",
       "  <thead>\n",
       "    <tr style=\"text-align: right;\">\n",
       "      <th></th>\n",
       "      <th>text</th>\n",
       "      <th>NCD Español</th>\n",
       "      <th>NCD Portugues</th>\n",
       "    </tr>\n",
       "  </thead>\n",
       "  <tbody>\n",
       "    <tr>\n",
       "      <th>2327706</th>\n",
       "      <td>I have been on tours all over the world but th...</td>\n",
       "      <td>0.968891</td>\n",
       "      <td>0.977844</td>\n",
       "    </tr>\n",
       "    <tr>\n",
       "      <th>3680135</th>\n",
       "      <td>Even if they cannot provide a service, and end...</td>\n",
       "      <td>0.968676</td>\n",
       "      <td>0.977844</td>\n",
       "    </tr>\n",
       "    <tr>\n",
       "      <th>2658552</th>\n",
       "      <td>After more than a decade of receiving care for...</td>\n",
       "      <td>0.971036</td>\n",
       "      <td>0.978483</td>\n",
       "    </tr>\n",
       "    <tr>\n",
       "      <th>3301116</th>\n",
       "      <td>Shame on you for dumping a couch into Darby cr...</td>\n",
       "      <td>0.966745</td>\n",
       "      <td>0.978483</td>\n",
       "    </tr>\n",
       "    <tr>\n",
       "      <th>760212</th>\n",
       "      <td>I've honestly never written a negative review,...</td>\n",
       "      <td>0.968462</td>\n",
       "      <td>0.978696</td>\n",
       "    </tr>\n",
       "    <tr>\n",
       "      <th>1783841</th>\n",
       "      <td>As a frequent traveler, I will say that the ma...</td>\n",
       "      <td>0.969534</td>\n",
       "      <td>0.978696</td>\n",
       "    </tr>\n",
       "    <tr>\n",
       "      <th>1423940</th>\n",
       "      <td>I've been to Nashville several times, includin...</td>\n",
       "      <td>0.969749</td>\n",
       "      <td>0.978909</td>\n",
       "    </tr>\n",
       "    <tr>\n",
       "      <th>3599949</th>\n",
       "      <td>A Bad dentist and a Bad dentist office.  As I ...</td>\n",
       "      <td>0.968462</td>\n",
       "      <td>0.979122</td>\n",
       "    </tr>\n",
       "    <tr>\n",
       "      <th>1522157</th>\n",
       "      <td>A fresh and healthy concept with dishes full o...</td>\n",
       "      <td>0.969105</td>\n",
       "      <td>0.979548</td>\n",
       "    </tr>\n",
       "    <tr>\n",
       "      <th>1377883</th>\n",
       "      <td>Frustrated\\n\\nOn a Friday afternoon, three day...</td>\n",
       "      <td>0.969534</td>\n",
       "      <td>0.979548</td>\n",
       "    </tr>\n",
       "  </tbody>\n",
       "</table>\n",
       "</div>"
      ],
      "text/plain": [
       "                                                      text  NCD Español  \\\n",
       "2327706  I have been on tours all over the world but th...     0.968891   \n",
       "3680135  Even if they cannot provide a service, and end...     0.968676   \n",
       "2658552  After more than a decade of receiving care for...     0.971036   \n",
       "3301116  Shame on you for dumping a couch into Darby cr...     0.966745   \n",
       "760212   I've honestly never written a negative review,...     0.968462   \n",
       "1783841  As a frequent traveler, I will say that the ma...     0.969534   \n",
       "1423940  I've been to Nashville several times, includin...     0.969749   \n",
       "3599949  A Bad dentist and a Bad dentist office.  As I ...     0.968462   \n",
       "1522157  A fresh and healthy concept with dishes full o...     0.969105   \n",
       "1377883  Frustrated\\n\\nOn a Friday afternoon, three day...     0.969534   \n",
       "\n",
       "         NCD Portugues  \n",
       "2327706       0.977844  \n",
       "3680135       0.977844  \n",
       "2658552       0.978483  \n",
       "3301116       0.978483  \n",
       "760212        0.978696  \n",
       "1783841       0.978696  \n",
       "1423940       0.978909  \n",
       "3599949       0.979122  \n",
       "1522157       0.979548  \n",
       "1377883       0.979548  "
      ]
     },
     "execution_count": 21,
     "metadata": {},
     "output_type": "execute_result"
    }
   ],
   "source": [
    "review.sort_values(by=\"NCD Portugues\").head(10)"
   ]
  },
  {
   "cell_type": "markdown",
   "id": "2b49c454-3458-46a6-b6f9-8d7ab6434b0e",
   "metadata": {},
   "source": [
    "Veo que en las 10 con el NCD mas bajo no hay ninguna en portugues, Pero puede pasar que las reviews no sean lo suficientemente largo y el ncd sea alto por esa razon, doy un ejemplo usando un fragmento del txt portugues. "
   ]
  },
  {
   "cell_type": "code",
   "execution_count": 22,
   "id": "bac71559-191a-4e39-9fc4-4ede5da6575e",
   "metadata": {},
   "outputs": [
    {
     "data": {
      "text/plain": [
       "72"
      ]
     },
     "execution_count": 22,
     "metadata": {},
     "output_type": "execute_result"
    }
   ],
   "source": [
    "fragmento =  '''Todos os seres humanos nascem livres e iguais em dignidade e em direitos'''\n",
    "len(fragmento)"
   ]
  },
  {
   "cell_type": "code",
   "execution_count": 23,
   "id": "53341499-4b22-4486-a967-edbc338e604f",
   "metadata": {},
   "outputs": [
    {
     "data": {
      "text/plain": [
       "0.9853003834682573"
      ]
     },
     "execution_count": 23,
     "metadata": {},
     "output_type": "execute_result"
    }
   ],
   "source": [
    "ncd(fragmento.encode(), portugues) ## esto esta incluido en el txt, y aun asi es mas alto que el calculado"
   ]
  },
  {
   "cell_type": "markdown",
   "id": "4ce35eed-0fd9-4513-8b5b-ce19c0b1dc4b",
   "metadata": {},
   "source": [
    "voy a filtrar por reviews cortas"
   ]
  },
  {
   "cell_type": "code",
   "execution_count": 24,
   "id": "2f9db947-d388-4262-a12d-1024a4e602a9",
   "metadata": {},
   "outputs": [],
   "source": [
    "\n",
    "reviewsCortas = review[review[\"text\"].str.len() < 200]"
   ]
  },
  {
   "cell_type": "code",
   "execution_count": 25,
   "id": "0be1961d-7828-487a-b49d-330487a3271c",
   "metadata": {},
   "outputs": [
    {
     "data": {
      "text/html": [
       "<div>\n",
       "<style scoped>\n",
       "    .dataframe tbody tr th:only-of-type {\n",
       "        vertical-align: middle;\n",
       "    }\n",
       "\n",
       "    .dataframe tbody tr th {\n",
       "        vertical-align: top;\n",
       "    }\n",
       "\n",
       "    .dataframe thead th {\n",
       "        text-align: right;\n",
       "    }\n",
       "</style>\n",
       "<table border=\"1\" class=\"dataframe\">\n",
       "  <thead>\n",
       "    <tr style=\"text-align: right;\">\n",
       "      <th></th>\n",
       "      <th>text</th>\n",
       "      <th>NCD Español</th>\n",
       "      <th>NCD Portugues</th>\n",
       "    </tr>\n",
       "  </thead>\n",
       "  <tbody>\n",
       "    <tr>\n",
       "      <th>1129380</th>\n",
       "      <td>Um dos lugares mais descolados que já conheci....</td>\n",
       "      <td>0.992276</td>\n",
       "      <td>0.990413</td>\n",
       "    </tr>\n",
       "    <tr>\n",
       "      <th>2406336</th>\n",
       "      <td>Preço justo. Comida boa e lugar bem típico ame...</td>\n",
       "      <td>0.991633</td>\n",
       "      <td>0.990413</td>\n",
       "    </tr>\n",
       "    <tr>\n",
       "      <th>780831</th>\n",
       "      <td>O calzone foi delicioso. Vc monta de acordo co...</td>\n",
       "      <td>0.992491</td>\n",
       "      <td>0.990626</td>\n",
       "    </tr>\n",
       "    <tr>\n",
       "      <th>301964</th>\n",
       "      <td>Excelente pedida! Escolhemos o lugar para o ja...</td>\n",
       "      <td>0.992276</td>\n",
       "      <td>0.990626</td>\n",
       "    </tr>\n",
       "    <tr>\n",
       "      <th>2346376</th>\n",
       "      <td>Ótimo pratos e apresentação porém o restaurant...</td>\n",
       "      <td>0.992276</td>\n",
       "      <td>0.990626</td>\n",
       "    </tr>\n",
       "  </tbody>\n",
       "</table>\n",
       "</div>"
      ],
      "text/plain": [
       "                                                      text  NCD Español  \\\n",
       "1129380  Um dos lugares mais descolados que já conheci....     0.992276   \n",
       "2406336  Preço justo. Comida boa e lugar bem típico ame...     0.991633   \n",
       "780831   O calzone foi delicioso. Vc monta de acordo co...     0.992491   \n",
       "301964   Excelente pedida! Escolhemos o lugar para o ja...     0.992276   \n",
       "2346376  Ótimo pratos e apresentação porém o restaurant...     0.992276   \n",
       "\n",
       "         NCD Portugues  \n",
       "1129380       0.990413  \n",
       "2406336       0.990413  \n",
       "780831        0.990626  \n",
       "301964        0.990626  \n",
       "2346376       0.990626  "
      ]
     },
     "execution_count": 25,
     "metadata": {},
     "output_type": "execute_result"
    }
   ],
   "source": [
    "reviewsCortas.sort_values(by=\"NCD Portugues\").head(5)"
   ]
  },
  {
   "cell_type": "code",
   "execution_count": null,
   "id": "0b14750f-20aa-40f1-b9db-8b04db5b568d",
   "metadata": {},
   "outputs": [],
   "source": []
  },
  {
   "cell_type": "code",
   "execution_count": null,
   "id": "5eb0d858-1c88-4e81-bdea-25ec18fcfea9",
   "metadata": {},
   "outputs": [],
   "source": []
  }
 ],
 "metadata": {
  "kernelspec": {
   "display_name": "Python 3 (ipykernel)",
   "language": "python",
   "name": "python3"
  },
  "language_info": {
   "codemirror_mode": {
    "name": "ipython",
    "version": 3
   },
   "file_extension": ".py",
   "mimetype": "text/x-python",
   "name": "python",
   "nbconvert_exporter": "python",
   "pygments_lexer": "ipython3",
   "version": "3.9.7"
  }
 },
 "nbformat": 4,
 "nbformat_minor": 5
}
